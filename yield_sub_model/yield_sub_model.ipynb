{
 "cells": [
  {
   "cell_type": "code",
   "execution_count": 1,
   "id": "0c54e591",
   "metadata": {},
   "outputs": [],
   "source": [
    "from __future__ import print_function\n",
    "import pandas as pd\n",
    "import numpy as np\n",
    "import matplotlib.pyplot as plt\n",
    "import seaborn as sns\n",
    "from sklearn.metrics import classification_report\n",
    "from sklearn import metrics\n",
    "from sklearn import tree\n",
    "from sklearn.metrics import confusion_matrix\n",
    "import warnings\n",
    "warnings.filterwarnings('ignore')"
   ]
  },
  {
   "cell_type": "code",
   "execution_count": 2,
   "id": "793704dc",
   "metadata": {},
   "outputs": [],
   "source": [
    "PATH = './Burdwan_Crop.csv'\n",
    "df = pd.read_csv(PATH)"
   ]
  },
  {
   "cell_type": "code",
   "execution_count": 3,
   "id": "5e36e41c",
   "metadata": {},
   "outputs": [
    {
     "data": {
      "text/html": [
       "<div>\n",
       "<style scoped>\n",
       "    .dataframe tbody tr th:only-of-type {\n",
       "        vertical-align: middle;\n",
       "    }\n",
       "\n",
       "    .dataframe tbody tr th {\n",
       "        vertical-align: top;\n",
       "    }\n",
       "\n",
       "    .dataframe thead th {\n",
       "        text-align: right;\n",
       "    }\n",
       "</style>\n",
       "<table border=\"1\" class=\"dataframe\">\n",
       "  <thead>\n",
       "    <tr style=\"text-align: right;\">\n",
       "      <th></th>\n",
       "      <th>State_Name</th>\n",
       "      <th>District_Name</th>\n",
       "      <th>Crop_Year</th>\n",
       "      <th>Season</th>\n",
       "      <th>Crop</th>\n",
       "      <th>Area</th>\n",
       "      <th>Production</th>\n",
       "      <th>Temparetue</th>\n",
       "      <th>Rainfall</th>\n",
       "      <th>Humidity</th>\n",
       "      <th>Sun hours</th>\n",
       "    </tr>\n",
       "  </thead>\n",
       "  <tbody>\n",
       "    <tr>\n",
       "      <th>0</th>\n",
       "      <td>West Bengal</td>\n",
       "      <td>BARDHAMAN</td>\n",
       "      <td>2009</td>\n",
       "      <td>Autumn</td>\n",
       "      <td>Rice</td>\n",
       "      <td>17119</td>\n",
       "      <td>52128.0</td>\n",
       "      <td>22.1</td>\n",
       "      <td>341</td>\n",
       "      <td>81.0</td>\n",
       "      <td>8.1</td>\n",
       "    </tr>\n",
       "    <tr>\n",
       "      <th>1</th>\n",
       "      <td>West Bengal</td>\n",
       "      <td>BARDHAMAN</td>\n",
       "      <td>2009</td>\n",
       "      <td>Kharif</td>\n",
       "      <td>Dry ginger</td>\n",
       "      <td>128</td>\n",
       "      <td>226.0</td>\n",
       "      <td>26.9</td>\n",
       "      <td>1189</td>\n",
       "      <td>80.0</td>\n",
       "      <td>8.2</td>\n",
       "    </tr>\n",
       "    <tr>\n",
       "      <th>2</th>\n",
       "      <td>West Bengal</td>\n",
       "      <td>BARDHAMAN</td>\n",
       "      <td>2009</td>\n",
       "      <td>Kharif</td>\n",
       "      <td>Jute</td>\n",
       "      <td>12459</td>\n",
       "      <td>222721.0</td>\n",
       "      <td>26.9</td>\n",
       "      <td>1189</td>\n",
       "      <td>80.0</td>\n",
       "      <td>8.2</td>\n",
       "    </tr>\n",
       "    <tr>\n",
       "      <th>3</th>\n",
       "      <td>West Bengal</td>\n",
       "      <td>BARDHAMAN</td>\n",
       "      <td>2009</td>\n",
       "      <td>Kharif</td>\n",
       "      <td>Maize</td>\n",
       "      <td>147</td>\n",
       "      <td>254.0</td>\n",
       "      <td>26.9</td>\n",
       "      <td>1189</td>\n",
       "      <td>80.0</td>\n",
       "      <td>8.2</td>\n",
       "    </tr>\n",
       "    <tr>\n",
       "      <th>4</th>\n",
       "      <td>West Bengal</td>\n",
       "      <td>BARDHAMAN</td>\n",
       "      <td>2009</td>\n",
       "      <td>Kharif</td>\n",
       "      <td>Mesta</td>\n",
       "      <td>88</td>\n",
       "      <td>46.0</td>\n",
       "      <td>26.9</td>\n",
       "      <td>1189</td>\n",
       "      <td>80.0</td>\n",
       "      <td>8.2</td>\n",
       "    </tr>\n",
       "  </tbody>\n",
       "</table>\n",
       "</div>"
      ],
      "text/plain": [
       "    State_Name District_Name  Crop_Year       Season        Crop   Area  \\\n",
       "0  West Bengal     BARDHAMAN       2009  Autumn             Rice  17119   \n",
       "1  West Bengal     BARDHAMAN       2009  Kharif       Dry ginger    128   \n",
       "2  West Bengal     BARDHAMAN       2009  Kharif             Jute  12459   \n",
       "3  West Bengal     BARDHAMAN       2009  Kharif            Maize    147   \n",
       "4  West Bengal     BARDHAMAN       2009  Kharif            Mesta     88   \n",
       "\n",
       "   Production  Temparetue  Rainfall  Humidity  Sun hours  \n",
       "0     52128.0        22.1       341      81.0        8.1  \n",
       "1       226.0        26.9      1189      80.0        8.2  \n",
       "2    222721.0        26.9      1189      80.0        8.2  \n",
       "3       254.0        26.9      1189      80.0        8.2  \n",
       "4        46.0        26.9      1189      80.0        8.2  "
      ]
     },
     "execution_count": 3,
     "metadata": {},
     "output_type": "execute_result"
    }
   ],
   "source": [
    "df.head()"
   ]
  },
  {
   "cell_type": "code",
   "execution_count": 4,
   "id": "afa7f9d9",
   "metadata": {},
   "outputs": [
    {
     "data": {
      "text/html": [
       "<div>\n",
       "<style scoped>\n",
       "    .dataframe tbody tr th:only-of-type {\n",
       "        vertical-align: middle;\n",
       "    }\n",
       "\n",
       "    .dataframe tbody tr th {\n",
       "        vertical-align: top;\n",
       "    }\n",
       "\n",
       "    .dataframe thead th {\n",
       "        text-align: right;\n",
       "    }\n",
       "</style>\n",
       "<table border=\"1\" class=\"dataframe\">\n",
       "  <thead>\n",
       "    <tr style=\"text-align: right;\">\n",
       "      <th></th>\n",
       "      <th>State_Name</th>\n",
       "      <th>District_Name</th>\n",
       "      <th>Crop_Year</th>\n",
       "      <th>Season</th>\n",
       "      <th>Crop</th>\n",
       "      <th>Area</th>\n",
       "      <th>Production</th>\n",
       "      <th>Temparetue</th>\n",
       "      <th>Rainfall</th>\n",
       "      <th>Humidity</th>\n",
       "      <th>Sun hours</th>\n",
       "    </tr>\n",
       "  </thead>\n",
       "  <tbody>\n",
       "    <tr>\n",
       "      <th>349</th>\n",
       "      <td>West Bengal</td>\n",
       "      <td>BARDHAMAN</td>\n",
       "      <td>2019</td>\n",
       "      <td>Summer</td>\n",
       "      <td>Moong(Green Gram)</td>\n",
       "      <td>69</td>\n",
       "      <td>82.0</td>\n",
       "      <td>36.40</td>\n",
       "      <td>243</td>\n",
       "      <td>59.0</td>\n",
       "      <td>10.10</td>\n",
       "    </tr>\n",
       "    <tr>\n",
       "      <th>350</th>\n",
       "      <td>West Bengal</td>\n",
       "      <td>BARDHAMAN</td>\n",
       "      <td>2019</td>\n",
       "      <td>Summer</td>\n",
       "      <td>Rice</td>\n",
       "      <td>150267</td>\n",
       "      <td>490532.0</td>\n",
       "      <td>36.40</td>\n",
       "      <td>243</td>\n",
       "      <td>59.0</td>\n",
       "      <td>10.10</td>\n",
       "    </tr>\n",
       "    <tr>\n",
       "      <th>351</th>\n",
       "      <td>West Bengal</td>\n",
       "      <td>BARDHAMAN</td>\n",
       "      <td>2019</td>\n",
       "      <td>Summer</td>\n",
       "      <td>Sesamum</td>\n",
       "      <td>17132</td>\n",
       "      <td>15571.0</td>\n",
       "      <td>36.40</td>\n",
       "      <td>243</td>\n",
       "      <td>59.0</td>\n",
       "      <td>10.10</td>\n",
       "    </tr>\n",
       "    <tr>\n",
       "      <th>352</th>\n",
       "      <td>West Bengal</td>\n",
       "      <td>BARDHAMAN</td>\n",
       "      <td>2019</td>\n",
       "      <td>Annual</td>\n",
       "      <td>Sugarcane</td>\n",
       "      <td>1440</td>\n",
       "      <td>113754.0</td>\n",
       "      <td>26.89</td>\n",
       "      <td>1601</td>\n",
       "      <td>79.1</td>\n",
       "      <td>8.90</td>\n",
       "    </tr>\n",
       "    <tr>\n",
       "      <th>353</th>\n",
       "      <td>West Bengal</td>\n",
       "      <td>BARDHAMAN</td>\n",
       "      <td>2019</td>\n",
       "      <td>Winter</td>\n",
       "      <td>Rice</td>\n",
       "      <td>419814</td>\n",
       "      <td>1361138.0</td>\n",
       "      <td>17.20</td>\n",
       "      <td>43</td>\n",
       "      <td>61.1</td>\n",
       "      <td>9.23</td>\n",
       "    </tr>\n",
       "  </tbody>\n",
       "</table>\n",
       "</div>"
      ],
      "text/plain": [
       "      State_Name District_Name  Crop_Year       Season               Crop  \\\n",
       "349  West Bengal     BARDHAMAN       2019  Summer       Moong(Green Gram)   \n",
       "350  West Bengal     BARDHAMAN       2019  Summer                    Rice   \n",
       "351  West Bengal     BARDHAMAN       2019  Summer                 Sesamum   \n",
       "352  West Bengal     BARDHAMAN       2019      Annual           Sugarcane   \n",
       "353  West Bengal     BARDHAMAN       2019  Winter                    Rice   \n",
       "\n",
       "       Area  Production  Temparetue  Rainfall  Humidity  Sun hours  \n",
       "349      69        82.0       36.40       243      59.0      10.10  \n",
       "350  150267    490532.0       36.40       243      59.0      10.10  \n",
       "351   17132     15571.0       36.40       243      59.0      10.10  \n",
       "352    1440    113754.0       26.89      1601      79.1       8.90  \n",
       "353  419814   1361138.0       17.20        43      61.1       9.23  "
      ]
     },
     "execution_count": 4,
     "metadata": {},
     "output_type": "execute_result"
    }
   ],
   "source": [
    "df.tail()"
   ]
  },
  {
   "cell_type": "code",
   "execution_count": 5,
   "id": "1e414d16",
   "metadata": {},
   "outputs": [
    {
     "data": {
      "text/plain": [
       "3894"
      ]
     },
     "execution_count": 5,
     "metadata": {},
     "output_type": "execute_result"
    }
   ],
   "source": [
    "df.size"
   ]
  },
  {
   "cell_type": "code",
   "execution_count": 6,
   "id": "f84cedfb",
   "metadata": {},
   "outputs": [
    {
     "data": {
      "text/plain": [
       "(354, 11)"
      ]
     },
     "execution_count": 6,
     "metadata": {},
     "output_type": "execute_result"
    }
   ],
   "source": [
    "df.shape"
   ]
  },
  {
   "cell_type": "code",
   "execution_count": 7,
   "id": "db8e43b3",
   "metadata": {},
   "outputs": [
    {
     "data": {
      "text/plain": [
       "Index(['State_Name', 'District_Name', 'Crop_Year', 'Season', 'Crop', 'Area',\n",
       "       'Production', 'Temparetue', 'Rainfall', 'Humidity', 'Sun hours'],\n",
       "      dtype='object')"
      ]
     },
     "execution_count": 7,
     "metadata": {},
     "output_type": "execute_result"
    }
   ],
   "source": [
    "df.columns"
   ]
  },
  {
   "cell_type": "code",
   "execution_count": 8,
   "id": "01cd769a",
   "metadata": {},
   "outputs": [
    {
     "data": {
      "text/plain": [
       "array(['Rice', 'Dry ginger', 'Jute', 'Maize', 'Mesta', 'Soyabean',\n",
       "       'Sunflower', 'Urad', 'Gram', 'Horse-gram', 'Khesari', 'Linseed',\n",
       "       'Masoor', 'Peas & beans (Pulses)', 'Rapeseed &Mustard',\n",
       "       'Safflower', 'Wheat', 'Moong(Green Gram)', 'Coconut ',\n",
       "       'Dry chillies', 'Groundnut', 'Potato', 'Sannhamp', 'Sesamum',\n",
       "       'Sugarcane', 'Turmeric', 'Cotton(lint)', 'Arhar/Tur', 'Arecanut',\n",
       "       'Other Kharif pulses', 'Garlic', 'Barley', 'Other  Rabi pulses'],\n",
       "      dtype=object)"
      ]
     },
     "execution_count": 8,
     "metadata": {},
     "output_type": "execute_result"
    }
   ],
   "source": [
    "df['Crop'].unique()"
   ]
  },
  {
   "cell_type": "code",
   "execution_count": 9,
   "id": "a4344d6e",
   "metadata": {},
   "outputs": [
    {
     "data": {
      "text/plain": [
       "State_Name        object\n",
       "District_Name     object\n",
       "Crop_Year          int64\n",
       "Season            object\n",
       "Crop              object\n",
       "Area               int64\n",
       "Production       float64\n",
       "Temparetue       float64\n",
       "Rainfall           int64\n",
       "Humidity         float64\n",
       "Sun hours        float64\n",
       "dtype: object"
      ]
     },
     "execution_count": 9,
     "metadata": {},
     "output_type": "execute_result"
    }
   ],
   "source": [
    "df.dtypes"
   ]
  },
  {
   "cell_type": "code",
   "execution_count": 10,
   "id": "7ac9ffb6",
   "metadata": {},
   "outputs": [
    {
     "data": {
      "text/plain": [
       "Rice                     33\n",
       "Moong(Green Gram)        28\n",
       "Groundnut                27\n",
       "Maize                    19\n",
       "Urad                     15\n",
       "Sesamum                  13\n",
       "Potato                   11\n",
       "Jute                     11\n",
       "Gram                     11\n",
       "Khesari                  11\n",
       "Rapeseed &Mustard        11\n",
       "Sugarcane                11\n",
       "Peas & beans (Pulses)    11\n",
       "Sannhamp                 11\n",
       "Masoor                   11\n",
       "Wheat                    11\n",
       "Soyabean                 11\n",
       "Sunflower                11\n",
       "Linseed                  10\n",
       "Safflower                10\n",
       "Mesta                    10\n",
       "Horse-gram                9\n",
       "Arhar/Tur                 8\n",
       "Other Kharif pulses       7\n",
       "Coconut                   5\n",
       "Dry chillies              5\n",
       "Dry ginger                5\n",
       "Turmeric                  5\n",
       "Cotton(lint)              5\n",
       "Arecanut                  4\n",
       "Barley                    2\n",
       "Garlic                    1\n",
       "Other  Rabi pulses        1\n",
       "Name: Crop, dtype: int64"
      ]
     },
     "execution_count": 10,
     "metadata": {},
     "output_type": "execute_result"
    }
   ],
   "source": [
    "df['Crop'].value_counts()"
   ]
  },
  {
   "cell_type": "code",
   "execution_count": 11,
   "id": "82515581",
   "metadata": {},
   "outputs": [
    {
     "data": {
      "text/plain": [
       "<AxesSubplot:>"
      ]
     },
     "execution_count": 11,
     "metadata": {},
     "output_type": "execute_result"
    },
    {
     "data": {
      "image/png": "[encoded data removed]",
      "text/plain": [
       "<Figure size 432x288 with 2 Axes>"
      ]
     },
     "metadata": {
      "needs_background": "light"
     },
     "output_type": "display_data"
    }
   ],
   "source": [
    "sns.heatmap(df.corr(),annot=True)"
   ]
  },
  {
   "cell_type": "code",
   "execution_count": 12,
   "id": "85dec7ae",
   "metadata": {},
   "outputs": [],
   "source": [
    "features = df[['Crop_Year','Area','Temparetue','Rainfall','Humidity','Sun hours']]\n",
    "target = df['Crop']\n",
    "labels = df['Crop']"
   ]
  },
  {
   "cell_type": "code",
   "execution_count": 13,
   "id": "1840816e",
   "metadata": {},
   "outputs": [],
   "source": [
    "# Initializing empty lists to append all model's name and corresponding name\n",
    "acc = []\n",
    "model = []"
   ]
  },
  {
   "cell_type": "code",
   "execution_count": 14,
   "id": "19f73207",
   "metadata": {},
   "outputs": [],
   "source": [
    "from sklearn.model_selection import train_test_split\n",
    "Xtrain, Xtest, Ytrain, Ytest = train_test_split(features,target,test_size = 0.2,random_state =2)"
   ]
  },
  {
   "cell_type": "code",
   "execution_count": 16,
   "id": "7ec52cff",
   "metadata": {},
   "outputs": [
    {
     "data": {
      "text/html": [
       "<div>\n",
       "<style scoped>\n",
       "    .dataframe tbody tr th:only-of-type {\n",
       "        vertical-align: middle;\n",
       "    }\n",
       "\n",
       "    .dataframe tbody tr th {\n",
       "        vertical-align: top;\n",
       "    }\n",
       "\n",
       "    .dataframe thead th {\n",
       "        text-align: right;\n",
       "    }\n",
       "</style>\n",
       "<table border=\"1\" class=\"dataframe\">\n",
       "  <thead>\n",
       "    <tr style=\"text-align: right;\">\n",
       "      <th></th>\n",
       "      <th>Crop_Year</th>\n",
       "      <th>Area</th>\n",
       "      <th>Temparetue</th>\n",
       "      <th>Rainfall</th>\n",
       "      <th>Humidity</th>\n",
       "      <th>Sun hours</th>\n",
       "    </tr>\n",
       "  </thead>\n",
       "  <tbody>\n",
       "    <tr>\n",
       "      <th>305</th>\n",
       "      <td>2018</td>\n",
       "      <td>124</td>\n",
       "      <td>21.40</td>\n",
       "      <td>186</td>\n",
       "      <td>64.00</td>\n",
       "      <td>8.90</td>\n",
       "    </tr>\n",
       "    <tr>\n",
       "      <th>262</th>\n",
       "      <td>2017</td>\n",
       "      <td>3</td>\n",
       "      <td>30.10</td>\n",
       "      <td>1267</td>\n",
       "      <td>79.50</td>\n",
       "      <td>8.45</td>\n",
       "    </tr>\n",
       "    <tr>\n",
       "      <th>99</th>\n",
       "      <td>2012</td>\n",
       "      <td>50</td>\n",
       "      <td>28.10</td>\n",
       "      <td>1194</td>\n",
       "      <td>81.00</td>\n",
       "      <td>8.34</td>\n",
       "    </tr>\n",
       "    <tr>\n",
       "      <th>291</th>\n",
       "      <td>2018</td>\n",
       "      <td>9356</td>\n",
       "      <td>23.41</td>\n",
       "      <td>316</td>\n",
       "      <td>80.23</td>\n",
       "      <td>8.16</td>\n",
       "    </tr>\n",
       "    <tr>\n",
       "      <th>341</th>\n",
       "      <td>2019</td>\n",
       "      <td>391</td>\n",
       "      <td>21.60</td>\n",
       "      <td>156</td>\n",
       "      <td>63.00</td>\n",
       "      <td>9.20</td>\n",
       "    </tr>\n",
       "    <tr>\n",
       "      <th>...</th>\n",
       "      <td>...</td>\n",
       "      <td>...</td>\n",
       "      <td>...</td>\n",
       "      <td>...</td>\n",
       "      <td>...</td>\n",
       "      <td>...</td>\n",
       "    </tr>\n",
       "    <tr>\n",
       "      <th>299</th>\n",
       "      <td>2018</td>\n",
       "      <td>48</td>\n",
       "      <td>27.96</td>\n",
       "      <td>1099</td>\n",
       "      <td>79.80</td>\n",
       "      <td>8.32</td>\n",
       "    </tr>\n",
       "    <tr>\n",
       "      <th>22</th>\n",
       "      <td>2009</td>\n",
       "      <td>1810</td>\n",
       "      <td>25.71</td>\n",
       "      <td>1474</td>\n",
       "      <td>78.38</td>\n",
       "      <td>8.90</td>\n",
       "    </tr>\n",
       "    <tr>\n",
       "      <th>72</th>\n",
       "      <td>2011</td>\n",
       "      <td>91</td>\n",
       "      <td>28.50</td>\n",
       "      <td>1173</td>\n",
       "      <td>81.69</td>\n",
       "      <td>8.40</td>\n",
       "    </tr>\n",
       "    <tr>\n",
       "      <th>15</th>\n",
       "      <td>2009</td>\n",
       "      <td>20</td>\n",
       "      <td>20.30</td>\n",
       "      <td>171</td>\n",
       "      <td>66.00</td>\n",
       "      <td>9.00</td>\n",
       "    </tr>\n",
       "    <tr>\n",
       "      <th>168</th>\n",
       "      <td>2014</td>\n",
       "      <td>12066</td>\n",
       "      <td>23.10</td>\n",
       "      <td>326</td>\n",
       "      <td>82.00</td>\n",
       "      <td>8.60</td>\n",
       "    </tr>\n",
       "  </tbody>\n",
       "</table>\n",
       "<p>283 rows × 6 columns</p>\n",
       "</div>"
      ],
      "text/plain": [
       "     Crop_Year   Area  Temparetue  Rainfall  Humidity  Sun hours\n",
       "305       2018    124       21.40       186     64.00       8.90\n",
       "262       2017      3       30.10      1267     79.50       8.45\n",
       "99        2012     50       28.10      1194     81.00       8.34\n",
       "291       2018   9356       23.41       316     80.23       8.16\n",
       "341       2019    391       21.60       156     63.00       9.20\n",
       "..         ...    ...         ...       ...       ...        ...\n",
       "299       2018     48       27.96      1099     79.80       8.32\n",
       "22        2009   1810       25.71      1474     78.38       8.90\n",
       "72        2011     91       28.50      1173     81.69       8.40\n",
       "15        2009     20       20.30       171     66.00       9.00\n",
       "168       2014  12066       23.10       326     82.00       8.60\n",
       "\n",
       "[283 rows x 6 columns]"
      ]
     },
     "execution_count": 16,
     "metadata": {},
     "output_type": "execute_result"
    }
   ],
   "source": [
    "Xtrain"
   ]
  },
  {
   "cell_type": "markdown",
   "id": "71e3d893",
   "metadata": {},
   "source": [
    "# Decision Tree"
   ]
  },
  {
   "cell_type": "code",
   "execution_count": 15,
   "id": "7e3da3a2",
   "metadata": {},
   "outputs": [
    {
     "name": "stdout",
     "output_type": "stream",
     "text": [
      "DecisionTrees's Accuracy is:  40.845070422535215\n",
      "                       precision    recall  f1-score   support\n",
      "\n",
      "             Arecanut       0.00      0.00      0.00         1\n",
      "            Arhar/Tur       0.00      0.00      0.00         1\n",
      "             Coconut        0.00      0.00      0.00         3\n",
      "         Cotton(lint)       0.00      0.00      0.00         2\n",
      "         Dry chillies       0.00      0.00      0.00         0\n",
      "           Dry ginger       0.00      0.00      0.00         1\n",
      "                 Gram       0.00      0.00      0.00         0\n",
      "            Groundnut       0.50      0.17      0.25         6\n",
      "                 Jute       1.00      1.00      1.00         1\n",
      "              Khesari       0.00      0.00      0.00         3\n",
      "              Linseed       0.00      0.00      0.00         0\n",
      "                Maize       0.75      0.50      0.60         6\n",
      "               Masoor       0.43      0.60      0.50         5\n",
      "                Mesta       0.00      0.00      0.00         2\n",
      "    Moong(Green Gram)       1.00      0.12      0.22         8\n",
      "  Other Kharif pulses       0.00      0.00      0.00         2\n",
      "Peas & beans (Pulses)       0.00      0.00      0.00         2\n",
      "               Potato       1.00      1.00      1.00         4\n",
      "    Rapeseed &Mustard       0.75      1.00      0.86         3\n",
      "                 Rice       1.00      1.00      1.00         5\n",
      "            Safflower       0.00      0.00      0.00         1\n",
      "             Sannhamp       0.20      0.67      0.31         3\n",
      "              Sesamum       1.00      0.50      0.67         2\n",
      "             Soyabean       0.40      1.00      0.57         2\n",
      "            Sugarcane       0.50      0.50      0.50         2\n",
      "            Sunflower       0.00      0.00      0.00         2\n",
      "             Turmeric       0.00      0.00      0.00         0\n",
      "                 Urad       0.14      0.50      0.22         2\n",
      "                Wheat       0.50      0.50      0.50         2\n",
      "\n",
      "             accuracy                           0.41        71\n",
      "            macro avg       0.32      0.31      0.28        71\n",
      "         weighted avg       0.50      0.41      0.39        71\n",
      "\n"
     ]
    }
   ],
   "source": [
    "from sklearn.tree import DecisionTreeClassifier\n",
    "\n",
    "DecisionTree = DecisionTreeClassifier(criterion=\"entropy\",random_state=2,max_depth=5)\n",
    "\n",
    "DecisionTree.fit(Xtrain,Ytrain)\n",
    "\n",
    "predicted_values = DecisionTree.predict(Xtest)\n",
    "x = metrics.accuracy_score(Ytest, predicted_values)\n",
    "acc.append(x)\n",
    "model.append('Decision Tree')\n",
    "print(\"DecisionTrees's Accuracy is: \", x*100)\n",
    "\n",
    "print(classification_report(Ytest,predicted_values))"
   ]
  },
  {
   "cell_type": "code",
   "execution_count": 17,
   "id": "074cae9e",
   "metadata": {},
   "outputs": [],
   "source": [
    "from sklearn.model_selection import cross_val_score"
   ]
  },
  {
   "cell_type": "code",
   "execution_count": 18,
   "id": "066ff639",
   "metadata": {},
   "outputs": [],
   "source": [
    "# Cross validation score (Decision Tree)\n",
    "score = cross_val_score(DecisionTree, features, target,cv=10)"
   ]
  },
  {
   "cell_type": "code",
   "execution_count": 19,
   "id": "5c27258b",
   "metadata": {},
   "outputs": [
    {
     "data": {
      "text/plain": [
       "array([0.30555556, 0.47222222, 0.52777778, 0.52777778, 0.54285714,\n",
       "       0.51428571, 0.48571429, 0.45714286, 0.48571429, 0.34285714])"
      ]
     },
     "execution_count": 19,
     "metadata": {},
     "output_type": "execute_result"
    }
   ],
   "source": [
    "score"
   ]
  },
  {
   "cell_type": "code",
   "execution_count": 20,
   "id": "01f0abbb",
   "metadata": {},
   "outputs": [
    {
     "name": "stdout",
     "output_type": "stream",
     "text": [
      "0.46619047619047616\n"
     ]
    }
   ],
   "source": [
    "print(np.mean(score))"
   ]
  },
  {
   "cell_type": "code",
   "execution_count": 21,
   "id": "94407624",
   "metadata": {},
   "outputs": [
    {
     "name": "stdout",
     "output_type": "stream",
     "text": [
      "Training Accuracy is: 0.6113074204946997\n"
     ]
    }
   ],
   "source": [
    "print(\"Training Accuracy is:\", DecisionTree.score(Xtrain,Ytrain))"
   ]
  },
  {
   "cell_type": "code",
   "execution_count": 22,
   "id": "703ca158",
   "metadata": {},
   "outputs": [
    {
     "name": "stdout",
     "output_type": "stream",
     "text": [
      "Training Accuracy is: 0.4084507042253521\n"
     ]
    }
   ],
   "source": [
    "print(\"Training Accuracy is:\", DecisionTree.score(Xtest,Ytest))"
   ]
  },
  {
   "cell_type": "markdown",
   "id": "162689da",
   "metadata": {},
   "source": [
    "# Naive Bayes"
   ]
  },
  {
   "cell_type": "code",
   "execution_count": 21,
   "id": "79b994e4",
   "metadata": {},
   "outputs": [
    {
     "name": "stdout",
     "output_type": "stream",
     "text": [
      "Naive Bayes's Accuracy is:  0.39436619718309857\n",
      "                       precision    recall  f1-score   support\n",
      "\n",
      "             Arecanut       0.00      0.00      0.00         1\n",
      "            Arhar/Tur       0.50      1.00      0.67         1\n",
      "               Barley       0.00      0.00      0.00         0\n",
      "             Coconut        1.00      0.33      0.50         3\n",
      "         Cotton(lint)       0.00      0.00      0.00         2\n",
      "         Dry chillies       0.00      0.00      0.00         0\n",
      "           Dry ginger       0.33      1.00      0.50         1\n",
      "                 Gram       0.00      0.00      0.00         0\n",
      "            Groundnut       0.00      0.00      0.00         6\n",
      "                 Jute       1.00      1.00      1.00         1\n",
      "              Khesari       1.00      0.33      0.50         3\n",
      "                Maize       1.00      0.33      0.50         6\n",
      "               Masoor       1.00      0.20      0.33         5\n",
      "                Mesta       0.00      0.00      0.00         2\n",
      "    Moong(Green Gram)       1.00      0.12      0.22         8\n",
      "  Other Kharif pulses       0.00      0.00      0.00         2\n",
      "Peas & beans (Pulses)       0.00      0.00      0.00         2\n",
      "               Potato       1.00      1.00      1.00         4\n",
      "    Rapeseed &Mustard       0.75      1.00      0.86         3\n",
      "                 Rice       1.00      0.60      0.75         5\n",
      "            Safflower       0.20      1.00      0.33         1\n",
      "             Sannhamp       0.40      0.67      0.50         3\n",
      "              Sesamum       0.50      1.00      0.67         2\n",
      "             Soyabean       0.17      0.50      0.25         2\n",
      "            Sugarcane       0.33      0.50      0.40         2\n",
      "            Sunflower       0.20      0.50      0.29         2\n",
      "             Turmeric       0.00      0.00      0.00         0\n",
      "                 Urad       0.00      0.00      0.00         2\n",
      "                Wheat       0.12      0.50      0.20         2\n",
      "\n",
      "             accuracy                           0.39        71\n",
      "            macro avg       0.40      0.40      0.33        71\n",
      "         weighted avg       0.59      0.39      0.39        71\n",
      "\n"
     ]
    }
   ],
   "source": [
    "from sklearn.naive_bayes import GaussianNB\n",
    "\n",
    "NaiveBayes = GaussianNB()\n",
    "\n",
    "NaiveBayes.fit(Xtrain,Ytrain)\n",
    "\n",
    "predicted_values = NaiveBayes.predict(Xtest)\n",
    "x = metrics.accuracy_score(Ytest, predicted_values)\n",
    "acc.append(x)\n",
    "model.append('Naive Bayes')\n",
    "print(\"Naive Bayes's Accuracy is: \", x)\n",
    "\n",
    "print(classification_report(Ytest,predicted_values))"
   ]
  },
  {
   "cell_type": "code",
   "execution_count": 22,
   "id": "445b7d62",
   "metadata": {},
   "outputs": [
    {
     "data": {
      "text/plain": [
       "array([0.35211268, 0.50704225, 0.45070423, 0.52112676, 0.4       ])"
      ]
     },
     "execution_count": 22,
     "metadata": {},
     "output_type": "execute_result"
    }
   ],
   "source": [
    "# Cross validation score (NaiveBayes)\n",
    "score = cross_val_score(NaiveBayes,features,target,cv=5)\n",
    "score"
   ]
  },
  {
   "cell_type": "markdown",
   "id": "4a34f40f",
   "metadata": {},
   "source": [
    "# Support Vector Machine (SVM)"
   ]
  },
  {
   "cell_type": "code",
   "execution_count": 24,
   "id": "7eb1f303",
   "metadata": {},
   "outputs": [
    {
     "name": "stdout",
     "output_type": "stream",
     "text": [
      "SVM's Accuracy is:  0.07042253521126761\n",
      "                       precision    recall  f1-score   support\n",
      "\n",
      "             Arecanut       0.00      0.00      0.00         1\n",
      "            Arhar/Tur       0.00      0.00      0.00         1\n",
      "             Coconut        0.00      0.00      0.00         3\n",
      "         Cotton(lint)       0.00      0.00      0.00         2\n",
      "           Dry ginger       0.00      0.00      0.00         1\n",
      "            Groundnut       0.00      0.00      0.00         6\n",
      "                 Jute       0.00      0.00      0.00         1\n",
      "              Khesari       0.00      0.00      0.00         3\n",
      "              Linseed       0.00      0.00      0.00         0\n",
      "                Maize       0.00      0.00      0.00         6\n",
      "               Masoor       0.00      0.00      0.00         5\n",
      "                Mesta       0.00      0.00      0.00         2\n",
      "    Moong(Green Gram)       0.00      0.00      0.00         8\n",
      "  Other Kharif pulses       0.00      0.00      0.00         2\n",
      "Peas & beans (Pulses)       0.00      0.00      0.00         2\n",
      "               Potato       0.00      0.00      0.00         4\n",
      "    Rapeseed &Mustard       0.00      0.00      0.00         3\n",
      "                 Rice       0.07      1.00      0.14         5\n",
      "            Safflower       0.00      0.00      0.00         1\n",
      "             Sannhamp       0.00      0.00      0.00         3\n",
      "              Sesamum       0.00      0.00      0.00         2\n",
      "             Soyabean       0.00      0.00      0.00         2\n",
      "            Sugarcane       0.00      0.00      0.00         2\n",
      "            Sunflower       0.00      0.00      0.00         2\n",
      "                 Urad       0.00      0.00      0.00         2\n",
      "                Wheat       0.00      0.00      0.00         2\n",
      "\n",
      "             accuracy                           0.07        71\n",
      "            macro avg       0.00      0.04      0.01        71\n",
      "         weighted avg       0.01      0.07      0.01        71\n",
      "\n"
     ]
    }
   ],
   "source": [
    "from sklearn.svm import SVC\n",
    "\n",
    "SVM = SVC(gamma='auto')\n",
    "\n",
    "SVM.fit(Xtrain,Ytrain)\n",
    "\n",
    "predicted_values = SVM.predict(Xtest)\n",
    "\n",
    "x = metrics.accuracy_score(Ytest, predicted_values)\n",
    "acc.append(x)\n",
    "model.append('SVM')\n",
    "print(\"SVM's Accuracy is: \", x)\n",
    "\n",
    "print(classification_report(Ytest,predicted_values))"
   ]
  },
  {
   "cell_type": "code",
   "execution_count": 25,
   "id": "e5a82ca2",
   "metadata": {},
   "outputs": [
    {
     "data": {
      "text/plain": [
       "array([0.09859155, 0.09859155, 0.09859155, 0.08450704, 0.08571429])"
      ]
     },
     "execution_count": 25,
     "metadata": {},
     "output_type": "execute_result"
    }
   ],
   "source": [
    "# Cross validation score (SVM)\n",
    "score = cross_val_score(SVM,features,target,cv=5)\n",
    "score"
   ]
  },
  {
   "cell_type": "markdown",
   "id": "d0284cae",
   "metadata": {},
   "source": [
    "# Logistic Regression"
   ]
  },
  {
   "cell_type": "code",
   "execution_count": 26,
   "id": "087bdbd8",
   "metadata": {},
   "outputs": [
    {
     "name": "stdout",
     "output_type": "stream",
     "text": [
      "Logistic Regression's Accuracy is:  0.29577464788732394\n",
      "                       precision    recall  f1-score   support\n",
      "\n",
      "             Arecanut       0.00      0.00      0.00         1\n",
      "            Arhar/Tur       0.00      0.00      0.00         1\n",
      "             Coconut        0.00      0.00      0.00         3\n",
      "         Cotton(lint)       0.00      0.00      0.00         2\n",
      "         Dry chillies       0.00      0.00      0.00         0\n",
      "           Dry ginger       0.00      0.00      0.00         1\n",
      "            Groundnut       0.23      0.50      0.32         6\n",
      "                 Jute       0.50      1.00      0.67         1\n",
      "              Khesari       0.00      0.00      0.00         3\n",
      "                Maize       0.00      0.00      0.00         6\n",
      "               Masoor       0.00      0.00      0.00         5\n",
      "                Mesta       0.00      0.00      0.00         2\n",
      "    Moong(Green Gram)       0.40      0.50      0.44         8\n",
      "  Other Kharif pulses       0.00      0.00      0.00         2\n",
      "Peas & beans (Pulses)       0.00      0.00      0.00         2\n",
      "               Potato       1.00      0.75      0.86         4\n",
      "    Rapeseed &Mustard       0.00      0.00      0.00         3\n",
      "                 Rice       0.43      0.60      0.50         5\n",
      "            Safflower       0.00      0.00      0.00         1\n",
      "             Sannhamp       0.00      0.00      0.00         3\n",
      "              Sesamum       0.33      0.50      0.40         2\n",
      "             Soyabean       0.00      0.00      0.00         2\n",
      "            Sugarcane       0.50      1.00      0.67         2\n",
      "            Sunflower       0.00      0.00      0.00         2\n",
      "                 Urad       0.10      1.00      0.17         2\n",
      "                Wheat       0.67      1.00      0.80         2\n",
      "\n",
      "             accuracy                           0.30        71\n",
      "            macro avg       0.16      0.26      0.19        71\n",
      "         weighted avg       0.20      0.30      0.23        71\n",
      "\n"
     ]
    }
   ],
   "source": [
    "from sklearn.linear_model import LogisticRegression\n",
    "\n",
    "LogReg = LogisticRegression(random_state=2)\n",
    "\n",
    "LogReg.fit(Xtrain,Ytrain)\n",
    "\n",
    "predicted_values = LogReg.predict(Xtest)\n",
    "\n",
    "x = metrics.accuracy_score(Ytest, predicted_values)\n",
    "acc.append(x)\n",
    "model.append('Logistic Regression')\n",
    "print(\"Logistic Regression's Accuracy is: \", x)\n",
    "\n",
    "print(classification_report(Ytest,predicted_values))"
   ]
  },
  {
   "cell_type": "code",
   "execution_count": 27,
   "id": "c2d40007",
   "metadata": {},
   "outputs": [
    {
     "data": {
      "text/plain": [
       "array([0.32394366, 0.32394366, 0.32394366, 0.38028169, 0.32857143])"
      ]
     },
     "execution_count": 27,
     "metadata": {},
     "output_type": "execute_result"
    }
   ],
   "source": [
    "# Cross validation score (Logistic Regression)\n",
    "score = cross_val_score(LogReg,features,target,cv=5)\n",
    "score"
   ]
  },
  {
   "cell_type": "markdown",
   "id": "175b9b60",
   "metadata": {},
   "source": [
    "# Random Forest"
   ]
  },
  {
   "cell_type": "code",
   "execution_count": 29,
   "id": "74a5dbfc",
   "metadata": {},
   "outputs": [
    {
     "name": "stdout",
     "output_type": "stream",
     "text": [
      "RF's Accuracy is:  0.2676056338028169\n",
      "                       precision    recall  f1-score   support\n",
      "\n",
      "             Arecanut       0.00      0.00      0.00         1\n",
      "            Arhar/Tur       0.00      0.00      0.00         1\n",
      "               Barley       0.00      0.00      0.00         0\n",
      "             Coconut        0.00      0.00      0.00         3\n",
      "         Cotton(lint)       0.00      0.00      0.00         2\n",
      "         Dry chillies       0.00      0.00      0.00         0\n",
      "           Dry ginger       0.00      0.00      0.00         1\n",
      "               Garlic       0.00      0.00      0.00         0\n",
      "                 Gram       0.00      0.00      0.00         0\n",
      "            Groundnut       0.00      0.00      0.00         6\n",
      "           Horse-gram       0.00      0.00      0.00         0\n",
      "                 Jute       1.00      1.00      1.00         1\n",
      "              Khesari       0.00      0.00      0.00         3\n",
      "              Linseed       0.00      0.00      0.00         0\n",
      "                Maize       0.67      0.33      0.44         6\n",
      "               Masoor       0.00      0.00      0.00         5\n",
      "                Mesta       1.00      0.50      0.67         2\n",
      "    Moong(Green Gram)       0.50      0.12      0.20         8\n",
      "  Other Kharif pulses       0.00      0.00      0.00         2\n",
      "Peas & beans (Pulses)       0.00      0.00      0.00         2\n",
      "               Potato       1.00      0.25      0.40         4\n",
      "    Rapeseed &Mustard       0.75      1.00      0.86         3\n",
      "                 Rice       1.00      1.00      1.00         5\n",
      "            Safflower       0.00      0.00      0.00         1\n",
      "             Sannhamp       0.00      0.00      0.00         3\n",
      "              Sesamum       0.50      0.50      0.50         2\n",
      "             Soyabean       0.20      0.50      0.29         2\n",
      "            Sugarcane       1.00      1.00      1.00         2\n",
      "            Sunflower       0.00      0.00      0.00         2\n",
      "             Turmeric       0.00      0.00      0.00         0\n",
      "                 Urad       0.00      0.00      0.00         2\n",
      "                Wheat       0.14      0.50      0.22         2\n",
      "\n",
      "             accuracy                           0.27        71\n",
      "            macro avg       0.24      0.21      0.21        71\n",
      "         weighted avg       0.37      0.27      0.28        71\n",
      "\n"
     ]
    }
   ],
   "source": [
    "from sklearn.ensemble import RandomForestClassifier\n",
    "\n",
    "RF = RandomForestClassifier(n_estimators=20, random_state=0)\n",
    "RF.fit(Xtrain,Ytrain)\n",
    "\n",
    "predicted_values = RF.predict(Xtest)\n",
    "\n",
    "x = metrics.accuracy_score(Ytest, predicted_values)\n",
    "acc.append(x)\n",
    "model.append('RF')\n",
    "print(\"RF's Accuracy is: \", x)\n",
    "\n",
    "print(classification_report(Ytest,predicted_values))\n"
   ]
  },
  {
   "cell_type": "code",
   "execution_count": 30,
   "id": "8531c5f2",
   "metadata": {},
   "outputs": [
    {
     "data": {
      "text/plain": [
       "array([0.35211268, 0.26760563, 0.4084507 , 0.3943662 , 0.45714286])"
      ]
     },
     "execution_count": 30,
     "metadata": {},
     "output_type": "execute_result"
    }
   ],
   "source": [
    "# Cross validation score (Random Forest)\n",
    "score = cross_val_score(RF,features,target,cv=5)\n",
    "score"
   ]
  },
  {
   "cell_type": "code",
   "execution_count": 32,
   "id": "6dfd415e",
   "metadata": {},
   "outputs": [
    {
     "data": {
      "text/plain": [
       "<AxesSubplot:title={'center':'Accuracy Comparison'}, xlabel='Accuracy', ylabel='Algorithm'>"
      ]
     },
     "execution_count": 32,
     "metadata": {},
     "output_type": "execute_result"
    },
    {
     "data": {
      "image/png": "[encoded data removed]",
      "text/plain": [
       "<Figure size 1000x500 with 1 Axes>"
      ]
     },
     "metadata": {
      "needs_background": "light"
     },
     "output_type": "display_data"
    }
   ],
   "source": [
    "plt.figure(figsize=[10,5],dpi = 100)\n",
    "plt.title('Accuracy Comparison')\n",
    "plt.xlabel('Accuracy')\n",
    "plt.ylabel('Algorithm')\n",
    "sns.barplot(x = acc,y = model,palette='dark')"
   ]
  },
  {
   "cell_type": "code",
   "execution_count": 33,
   "id": "d1666679",
   "metadata": {},
   "outputs": [
    {
     "name": "stdout",
     "output_type": "stream",
     "text": [
      "Decision Tree --> 0.4084507042253521\n",
      "Naive Bayes --> 0.39436619718309857\n",
      "SVM --> 0.07042253521126761\n",
      "Logistic Regression --> 0.29577464788732394\n",
      "RF --> 0.2676056338028169\n"
     ]
    }
   ],
   "source": [
    "accuracy_models = dict(zip(model, acc))\n",
    "for k, v in accuracy_models.items():\n",
    "    print (k, '-->', v)"
   ]
  },
  {
   "cell_type": "code",
   "execution_count": 43,
   "id": "17c2296a",
   "metadata": {},
   "outputs": [
    {
     "name": "stdout",
     "output_type": "stream",
     "text": [
      "['Sugarcane']\n"
     ]
    }
   ],
   "source": [
    "data = np.array([[2022,1777,31,1100,80,9.3]])\n",
    "prediction = RF.predict(data)\n",
    "print(prediction)"
   ]
  },
  {
   "cell_type": "code",
   "execution_count": null,
   "id": "f4d2a4f8",
   "metadata": {},
   "outputs": [],
   "source": []
  }
 ],
 "metadata": {
  "kernelspec": {
   "display_name": "Python 3",
   "language": "python",
   "name": "python3"
  },
  "language_info": {
   "codemirror_mode": {
    "name": "ipython",
    "version": 3
   },
   "file_extension": ".py",
   "mimetype": "text/x-python",
   "name": "python",
   "nbconvert_exporter": "python",
   "pygments_lexer": "ipython3",
   "version": "3.8.8"
  }
 },
 "nbformat": 4,
 "nbformat_minor": 5
}
